{
 "cells": [
  {
   "cell_type": "code",
   "execution_count": 1,
   "metadata": {},
   "outputs": [],
   "source": [
    "import os\n",
    "import numpy as np\n",
    "import matplotlib.pyplot as plt\n",
    "import pandas as pd\n",
    "import glob"
   ]
  },
  {
   "cell_type": "code",
   "execution_count": 2,
   "metadata": {},
   "outputs": [],
   "source": [
    "config_paths = {\n",
    "    \"luna16\":\"../../luna16/LUNA16/\",\n",
    "    \"segment\":\"../../luna16/seg-lungs-LUNA16/\",\n",
    "    \"annotations\":\"../../luna16/annotations.csv\",\n",
    "    \"candidates\":\"../../luna16/candidates.csv\",\n",
    "    \"slide_v1\":\"../center-coord-chunk\",\n",
    "    \"slide_v2\":\"../center-coord-chunk-v2\",\n",
    "}\n",
    "\n",
    "annotations = pd.read_csv(config_paths['annotations'])"
   ]
  },
  {
   "cell_type": "code",
   "execution_count": 3,
   "metadata": {},
   "outputs": [
    {
     "data": {
      "text/html": [
       "<div>\n",
       "<style scoped>\n",
       "    .dataframe tbody tr th:only-of-type {\n",
       "        vertical-align: middle;\n",
       "    }\n",
       "\n",
       "    .dataframe tbody tr th {\n",
       "        vertical-align: top;\n",
       "    }\n",
       "\n",
       "    .dataframe thead th {\n",
       "        text-align: right;\n",
       "    }\n",
       "</style>\n",
       "<table border=\"1\" class=\"dataframe\">\n",
       "  <thead>\n",
       "    <tr style=\"text-align: right;\">\n",
       "      <th></th>\n",
       "      <th>seriesuid</th>\n",
       "      <th>coordX</th>\n",
       "      <th>coordY</th>\n",
       "      <th>coordZ</th>\n",
       "      <th>diameter_mm</th>\n",
       "    </tr>\n",
       "  </thead>\n",
       "  <tbody>\n",
       "    <tr>\n",
       "      <th>0</th>\n",
       "      <td>1.3.6.1.4.1.14519.5.2.1.6279.6001.100225287222...</td>\n",
       "      <td>-128.699421</td>\n",
       "      <td>-175.319272</td>\n",
       "      <td>-298.387506</td>\n",
       "      <td>5.651471</td>\n",
       "    </tr>\n",
       "    <tr>\n",
       "      <th>1</th>\n",
       "      <td>1.3.6.1.4.1.14519.5.2.1.6279.6001.100225287222...</td>\n",
       "      <td>103.783651</td>\n",
       "      <td>-211.925149</td>\n",
       "      <td>-227.121250</td>\n",
       "      <td>4.224708</td>\n",
       "    </tr>\n",
       "  </tbody>\n",
       "</table>\n",
       "</div>"
      ],
      "text/plain": [
       "                                           seriesuid      coordX      coordY  \\\n",
       "0  1.3.6.1.4.1.14519.5.2.1.6279.6001.100225287222... -128.699421 -175.319272   \n",
       "1  1.3.6.1.4.1.14519.5.2.1.6279.6001.100225287222...  103.783651 -211.925149   \n",
       "\n",
       "       coordZ  diameter_mm  \n",
       "0 -298.387506     5.651471  \n",
       "1 -227.121250     4.224708  "
      ]
     },
     "execution_count": 3,
     "metadata": {},
     "output_type": "execute_result"
    }
   ],
   "source": [
    "annotations.head(2)"
   ]
  },
  {
   "cell_type": "code",
   "execution_count": 4,
   "metadata": {},
   "outputs": [],
   "source": [
    "# uitil\n",
    "def get_uids(subset):\n",
    "    files = os.listdir(config_paths[\"slide_v2\"] + f\"/subset{subset}-gt\")\n",
    "\n",
    "    uids = [f.split(\"_\")[0] for f in files]\n",
    "\n",
    "    return list(set(uids))\n",
    "\n",
    "def num_annos_of_uid(uid):\n",
    "    uids = annotations[\"seriesuid\"].values\n",
    "\n",
    "    return np.count_nonzero(uids == uid)\n",
    "\n",
    "def num_annos_in_subset(subset):\n",
    "    subset_uids = get_uids(subset)\n",
    "    all_uids = annotations[\"seriesuid\"].values\n",
    "\n",
    "    result = 0\n",
    "\n",
    "    for uid in subset_uids:\n",
    "        result += np.count_nonzero(all_uids == uid)\n",
    "\n",
    "    return result\n",
    "\n",
    "def count_pixel(paths):\n",
    "    \"\"\"\n",
    "    paths: path of slide annos of 1 image\n",
    "    \n",
    "    return total pixel and annos pixel mask.\n",
    "    return list percentage per annos\n",
    "    \"\"\"\n",
    "    total_pixel = 0\n",
    "    annos_pixel = 0\n",
    "    l_percentage = []\n",
    "\n",
    "    for path in paths:\n",
    "        image = np.load(path)\n",
    "\n",
    "        total_pixel+= image.size\n",
    "        annos_pixel += np.count_nonzero(image == 1)\n",
    "        l_percentage.append(np.count_nonzero(image == 1)/(np.count_nonzero(image == 1) + image.size))\n",
    "\n",
    "    return total_pixel, annos_pixel, l_percentage \n",
    "\n",
    "def get_index(image):\n",
    "    \"\"\"\n",
    "    image: np.array of image\n",
    "\n",
    "    return index contain value = 1 (mask value)\n",
    "    \"\"\"\n",
    "    result = []\n",
    "\n",
    "    for i in range(len(image)):\n",
    "        if np.count_nonzero(image[i] == 1) > 0:\n",
    "            result.append(i)\n",
    "\n",
    "    return result"
   ]
  },
  {
   "cell_type": "code",
   "execution_count": 5,
   "metadata": {},
   "outputs": [
    {
     "name": "stdout",
     "output_type": "stream",
     "text": [
      "Total file in subset: 1056\n",
      "Total annotation: 112\n",
      "Total uids: 67\n"
     ]
    },
    {
     "data": {
      "text/plain": [
       "(7340032, 71788)"
      ]
     },
     "execution_count": 5,
     "metadata": {},
     "output_type": "execute_result"
    }
   ],
   "source": [
    "def explore(subset, each_percentage=False):\n",
    "\n",
    "    path = f\"{config_paths['slide_v2']}/subset{subset}-gt/\"\n",
    "    total_file = os.listdir(path)\n",
    "\n",
    "    # get uids\n",
    "    uids = get_uids(subset)\n",
    "    total_annos = num_annos_in_subset(subset)\n",
    "\n",
    "    print(\"Total file in subset:\", len(total_file))\n",
    "    print(\"Total annotation:\", total_annos)\n",
    "    print(\"Total uids:\", len(uids))\n",
    "\n",
    "    #### explore percentage\n",
    "    total_pixel = 0\n",
    "    annos_pixel = 0\n",
    "    l_percentage = []\n",
    "\n",
    "    for uid in uids:\n",
    "        annos_paths = glob.glob(f\"{config_paths['slide_v2']}/subset{subset}-gt/{uid}_nod_?_center_gt.npy*\")\n",
    "        t, a, l = count_pixel(annos_paths)\n",
    "\n",
    "        total_pixel += t\n",
    "        annos_pixel += a\n",
    "        l_percentage.extend(l)\n",
    "\n",
    "    if each_percentage:\n",
    "        return total_pixel, annos_pixel, l_percentage\n",
    "    else:\n",
    "        return total_pixel, annos_pixel \n",
    "\n",
    "\n",
    "explore(0)"
   ]
  },
  {
   "cell_type": "code",
   "execution_count": 6,
   "metadata": {},
   "outputs": [
    {
     "name": "stdout",
     "output_type": "stream",
     "text": [
      "Total file in subset: 1056\n",
      "Total annotation: 112\n",
      "Total uids: 67\n",
      "Total file in subset: 1175\n",
      "Total annotation: 128\n",
      "Total uids: 61\n",
      "Total file in subset: 1276\n",
      "Total annotation: 128\n",
      "Total uids: 56\n",
      "Total file in subset: 1051\n",
      "Total annotation: 119\n",
      "Total uids: 65\n",
      "Total file in subset: 1188\n",
      "Total annotation: 128\n",
      "Total uids: 62\n",
      "Total file in subset: 1042\n",
      "Total annotation: 108\n",
      "Total uids: 54\n",
      "Total file in subset: 1179\n",
      "Total annotation: 129\n",
      "Total uids: 63\n",
      "Total file in subset: 1016\n",
      "Total annotation: 111\n",
      "Total uids: 54\n",
      "Total file in subset: 600\n",
      "Total annotation: 65\n",
      "Total uids: 33\n",
      "Total file in subset: 1000\n",
      "Total annotation: 105\n",
      "Total uids: 59\n"
     ]
    },
    {
     "data": {
      "text/plain": [
       "(74121216, 768914)"
      ]
     },
     "execution_count": 6,
     "metadata": {},
     "output_type": "execute_result"
    }
   ],
   "source": [
    "def total_percentage():\n",
    "    subsets = list(range(10))\n",
    "\n",
    "    total = 0\n",
    "    annos = 0\n",
    "\n",
    "    for subset in subsets:\n",
    "        t, a = explore(subset)\n",
    "        \n",
    "        total += t\n",
    "        annos += a\n",
    "\n",
    "    return total, annos\n",
    "\n",
    "total_percentage()\n",
    "\n",
    "# (74121216, 768914)\n",
    "# percentage = [768914/(768914 + 74121216)]*100 = 1.0267%"
   ]
  },
  {
   "attachments": {},
   "cell_type": "markdown",
   "metadata": {},
   "source": [
    "### percentage full image"
   ]
  },
  {
   "cell_type": "code",
   "execution_count": 7,
   "metadata": {},
   "outputs": [],
   "source": [
    "# image \"*_gt.npy\"\n",
    "# index \"*_posindex.np\" not 100% correctly\n",
    "\n",
    "def get_image_path(subset):\n",
    "    paths = glob.glob(f\"subset{subset}-gt/*_gt.npy\")\n",
    "\n",
    "    return paths\n",
    "\n",
    "# def "
   ]
  },
  {
   "cell_type": "code",
   "execution_count": 8,
   "metadata": {},
   "outputs": [
    {
     "name": "stdout",
     "output_type": "stream",
     "text": [
      "Total image subset 0: 89\n"
     ]
    },
    {
     "data": {
      "text/plain": [
       "(1553517277, 1449383)"
      ]
     },
     "execution_count": 8,
     "metadata": {},
     "output_type": "execute_result"
    }
   ],
   "source": [
    "def explore_full_image(subset, each_percentage=False):\n",
    "\n",
    "    paths = get_image_path(subset)\n",
    "    print(f\"Total image subset {subset}:\", len(paths))\n",
    "\n",
    "\n",
    "    # caculate percentage\n",
    "    total_pixel = 0\n",
    "    annos_pixel = 0\n",
    "    l_precentage = []\n",
    "\n",
    "    for path in paths:\n",
    "        t, a, l = count_pixel([path])\n",
    "\n",
    "        total_pixel += t\n",
    "        annos_pixel += a\n",
    "        l_precentage.extend(l)\n",
    "\n",
    "    if each_percentage:\n",
    "        return total_pixel, annos_pixel, l_precentage\n",
    "    else:\n",
    "        return total_pixel, annos_pixel\n",
    "    \n",
    "explore_full_image(0)    "
   ]
  },
  {
   "cell_type": "code",
   "execution_count": 9,
   "metadata": {},
   "outputs": [
    {
     "name": "stdout",
     "output_type": "stream",
     "text": [
      "Total image subset 0: 89\n",
      "Total image subset 1: 89\n",
      "Total image subset 2: 89\n",
      "Total image subset 3: 89\n",
      "Total image subset 4: 89\n",
      "Total image subset 5: 89\n",
      "Total image subset 6: 89\n",
      "Total image subset 7: 89\n",
      "Total image subset 8: 88\n",
      "Total image subset 9: 88\n"
     ]
    },
    {
     "data": {
      "text/plain": [
       "(15695208565, 21511938)"
      ]
     },
     "execution_count": 9,
     "metadata": {},
     "output_type": "execute_result"
    }
   ],
   "source": [
    "def total_percentage_image():\n",
    "    subsets = list(range(10))\n",
    "\n",
    "    total = 0\n",
    "    annos = 0\n",
    "    for subset in subsets:\n",
    "        t, a = explore_full_image(subset)\n",
    "\n",
    "        total += t\n",
    "        annos += a\n",
    "\n",
    "    return total, annos\n",
    "\n",
    "total_percentage_image()\n",
    "# (15695208565, 21511938)\n",
    "# percentage = [21511938/(21511938 + 15695208565)]*100 = 0.1368%"
   ]
  }
 ],
 "metadata": {
  "kernelspec": {
   "display_name": "py38",
   "language": "python",
   "name": "python3"
  },
  "language_info": {
   "codemirror_mode": {
    "name": "ipython",
    "version": 3
   },
   "file_extension": ".py",
   "mimetype": "text/x-python",
   "name": "python",
   "nbconvert_exporter": "python",
   "pygments_lexer": "ipython3",
   "version": "3.8.16"
  },
  "orig_nbformat": 4
 },
 "nbformat": 4,
 "nbformat_minor": 2
}
