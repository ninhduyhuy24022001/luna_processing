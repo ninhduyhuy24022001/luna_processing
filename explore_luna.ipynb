{
 "cells": [
  {
   "cell_type": "code",
   "execution_count": 2,
   "metadata": {},
   "outputs": [],
   "source": [
    "import matplotlib.pyplot as plt\n",
    "import numpy as np\n",
    "import pandas as pd\n",
    "import os\n",
    "import glob"
   ]
  },
  {
   "cell_type": "code",
   "execution_count": 3,
   "metadata": {},
   "outputs": [],
   "source": [
    "config_paths = {\n",
    "    \"luna16\":\"../../luna16/LUNA16/\",\n",
    "    \"segment\":\"../../luna16/seg-lungs-LUNA16/\",\n",
    "    \"annotations\":\"../../luna16/annotations.csv\",\n",
    "    \"candidates\":\"../../luna16/candidates.csv\",\n",
    "    \"slide_v1\":\"../center-coord-chunk\",\n",
    "    \"slide_v2\":\"../center-coord-chunk-v2\",\n",
    "}\n",
    "\n",
    "annotations = pd.read_csv(config_paths['annotations'])"
   ]
  }
 ],
 "metadata": {
  "kernelspec": {
   "display_name": "py38",
   "language": "python",
   "name": "python3"
  },
  "language_info": {
   "codemirror_mode": {
    "name": "ipython",
    "version": 3
   },
   "file_extension": ".py",
   "mimetype": "text/x-python",
   "name": "python",
   "nbconvert_exporter": "python",
   "pygments_lexer": "ipython3",
   "version": "3.8.16"
  },
  "orig_nbformat": 4
 },
 "nbformat": 4,
 "nbformat_minor": 2
}
