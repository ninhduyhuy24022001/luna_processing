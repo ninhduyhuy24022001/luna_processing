{
 "cells": [
  {
   "cell_type": "code",
   "execution_count": 23,
   "metadata": {},
   "outputs": [],
   "source": [
    "from pathlib import Path\n",
    "import os\n",
    "import SimpleITK as sitk\n",
    "import numpy as np\n",
    "import csv\n",
    "import glob\n",
    "import pandas as pd\n",
    "try:\n",
    "    from tqdm import tqdm  # long waits are not fun\n",
    "except:\n",
    "    print('TQDM does make much nicer wait bars...')\n",
    "    tqdm = lambda x: x"
   ]
  },
  {
   "cell_type": "code",
   "execution_count": 24,
   "metadata": {},
   "outputs": [],
   "source": [
    "resampling_paths = \"../../luna16/LUNA16_resampling/\""
   ]
  },
  {
   "attachments": {},
   "cell_type": "markdown",
   "metadata": {},
   "source": [
    "## Nội suy mode=\"nearest\" thây đổi kích thước của spacing"
   ]
  },
  {
   "cell_type": "code",
   "execution_count": 28,
   "metadata": {},
   "outputs": [
    {
     "name": "stderr",
     "output_type": "stream",
     "text": [
      "100%|██████████| 89/89 [36:04<00:00, 24.32s/it]\n"
     ]
    }
   ],
   "source": [
    "import numpy as np\n",
    "from scipy import ndimage\n",
    "\n",
    "def rescale_spacing(image, old_spacing, new_spacing):\n",
    "    # Tính toán tỷ lệ thay đổi spacing\n",
    "    scale_factor = np.array(old_spacing) / np.array(new_spacing)\n",
    "\n",
    "    # Tính toán kích thước mới của ảnh CT\n",
    "    new_shape = np.round(image.shape * scale_factor)\n",
    "    new_shape = new_shape.astype(int)\n",
    "\n",
    "    # Thay đổi kích thước ảnh CT bằng phương pháp nội suy\n",
    "    resized_image = ndimage.zoom(image, scale_factor, mode='nearest')\n",
    "\n",
    "    return resized_image\n",
    "\n",
    "# Quá trình resampling thành spacing = [1, 1, 1]\n",
    "for subset in range(0, 1):\n",
    "    # break\n",
    "\n",
    "    save_path = f\"../../luna16/LUNA16_resampling/subset{subset}\"\n",
    "\n",
    "    if not os.path.exists(save_path):\n",
    "        os.makedirs(save_path)\n",
    "\n",
    "    luna_paths = glob.glob(f\"../../luna16/LUNA16/subset{subset}/*.mhd\")\n",
    "    new_spacing = np.array([1.0, 1.0, 1.0])\n",
    "\n",
    "    for path in tqdm(luna_paths):\n",
    "        uid = path.split(\"\\\\\")[-1][:-4]\n",
    "        ct_mhd = sitk.ReadImage(path)\n",
    "        ct_a = np.array(sitk.GetArrayFromImage(ct_mhd), dtype=np.float32)\n",
    "\n",
    "        old_spacing = np.array(ct_mhd.GetSpacing()[::-1])\n",
    "        origin = np.array(ct_mhd.GetOrigin())\n",
    "        direction = np.array(ct_mhd.GetDirection())\n",
    "\n",
    "        \n",
    "        resized_image = rescale_spacing(ct_a, old_spacing, new_spacing)\n",
    "\n",
    "        np.save(f\"{save_path}/{uid}_resampling.npy\", resized_image)\n",
    "        np.save(f\"{save_path}/{uid}_origin.npy\", origin)\n",
    "        np.save(f\"{save_path}/{uid}_direction\", direction)\n"
   ]
  },
  {
   "attachments": {},
   "cell_type": "markdown",
   "metadata": {},
   "source": [
    "#### Test"
   ]
  },
  {
   "cell_type": "code",
   "execution_count": 27,
   "metadata": {},
   "outputs": [
    {
     "name": "stdout",
     "output_type": "stream",
     "text": [
      "(123, 512, 512)\n",
      "(2.5, 0.8203120231628418, 0.8203120231628418)\n",
      "(308, 420, 420)\n"
     ]
    }
   ],
   "source": [
    "test_uid = \"1.3.6.1.4.1.14519.5.2.1.6279.6001.287966244644280690737019247886\"\n",
    "\n",
    "luna_path = glob.glob(f\"../../luna16/LUNA16/subset1/{test_uid}.mhd\")[0]\n",
    "\n",
    "ct_mhd = sitk.ReadImage(luna_path)\n",
    "ct_a = np.array(sitk.GetArrayFromImage(ct_mhd), dtype=np.float32)\n",
    "\n",
    "print(ct_a.shape)\n",
    "print(ct_mhd.GetSpacing()[::-1])\n",
    "\n",
    "resampling_path = glob.glob(f\"../../luna16/LUNA16_resampling/subset1/{test_uid}_resampling.npy\")[0]\n",
    "\n",
    "img = np.load(resampling_path)\n",
    "\n",
    "print(img.shape)\n"
   ]
  },
  {
   "cell_type": "code",
   "execution_count": 10,
   "metadata": {},
   "outputs": [
    {
     "name": "stderr",
     "output_type": "stream",
     "text": [
      "100%|██████████| 888/888 [32:54<00:00,  2.22s/it]\n"
     ]
    }
   ],
   "source": [
    "# # Kiểm tra phân phối số lượng lát cắt trong ảnh CT\n",
    "# paths = glob.glob(f\"{resampling_paths}/subset*/*_resampling.npy\")\n",
    "# shapes = []\n",
    "\n",
    "# for path in tqdm(paths):\n",
    "#     image = np.load(path)\n",
    "#     shapes.append(image.shape)\n"
   ]
  }
 ],
 "metadata": {
  "kernelspec": {
   "display_name": "py38",
   "language": "python",
   "name": "python3"
  },
  "language_info": {
   "codemirror_mode": {
    "name": "ipython",
    "version": 3
   },
   "file_extension": ".py",
   "mimetype": "text/x-python",
   "name": "python",
   "nbconvert_exporter": "python",
   "pygments_lexer": "ipython3",
   "version": "3.8.16"
  },
  "orig_nbformat": 4
 },
 "nbformat": 4,
 "nbformat_minor": 2
}
