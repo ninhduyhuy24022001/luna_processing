{
 "cells": [
  {
   "cell_type": "code",
   "execution_count": 1,
   "metadata": {},
   "outputs": [],
   "source": [
    "from pathlib import Path\n",
    "import os\n",
    "import SimpleITK as sitk\n",
    "import numpy as np\n",
    "import csv\n",
    "import glob\n",
    "import pandas as pd\n",
    "try:\n",
    "    from tqdm import tqdm  # long waits are not fun\n",
    "except:\n",
    "    print('TQDM does make much nicer wait bars...')\n",
    "    tqdm = lambda x: x"
   ]
  },
  {
   "cell_type": "code",
   "execution_count": 2,
   "metadata": {},
   "outputs": [],
   "source": [
    "resampling_paths = \"../../luna16/LUNA16_resampling/\"\n",
    "luna_paths = \"../../luna16/LUNA16/\""
   ]
  },
  {
   "attachments": {},
   "cell_type": "markdown",
   "metadata": {},
   "source": [
    "## Nội suy mode=\"nearest\" thây đổi kích thước của spacing"
   ]
  },
  {
   "cell_type": "code",
   "execution_count": 3,
   "metadata": {},
   "outputs": [],
   "source": [
    "import numpy as np\n",
    "from scipy import ndimage\n",
    "\n",
    "def rescale_spacing(image, old_spacing, new_spacing):\n",
    "    # Tính toán tỷ lệ thay đổi spacing\n",
    "    scale_factor = np.array(old_spacing) / np.array(new_spacing)\n",
    "\n",
    "    # Tính toán kích thước mới của ảnh CT\n",
    "    new_shape = np.round(image.shape * scale_factor)\n",
    "    new_shape = new_shape.astype(int)\n",
    "\n",
    "    # Thay đổi kích thước ảnh CT bằng phương pháp nội suy\n",
    "    resized_image = ndimage.zoom(image, scale_factor, mode='nearest')\n",
    "\n",
    "    return resized_image\n",
    "\n",
    "# Quá trình resampling thành spacing = [1, 1, 1]\n",
    "for subset in range(4, 10):\n",
    "    ##\n",
    "    break\n",
    "    ##\n",
    "    save_path = f\"../../luna16/LUNA16_resampling/subset{subset}\"\n",
    "\n",
    "    if not os.path.exists(save_path):\n",
    "        os.makedirs(save_path)\n",
    "\n",
    "    luna_paths = glob.glob(f\"../../luna16/LUNA16/subset{subset}/*.mhd\")\n",
    "    new_spacing = np.array([1.0, 1.0, 1.0])\n",
    "\n",
    "    for path in tqdm(luna_paths):\n",
    "        uid = path.split(\"\\\\\")[-1][:-4]\n",
    "        ct_mhd = sitk.ReadImage(path)\n",
    "        ct_a = np.array(sitk.GetArrayFromImage(ct_mhd), dtype=np.float32)\n",
    "\n",
    "        old_spacing = np.array(ct_mhd.GetSpacing())[::-1]\n",
    "        origin = np.array(ct_mhd.GetOrigin())\n",
    "        direction = np.array(ct_mhd.GetDirection())\n",
    "\n",
    "        resized_image = rescale_spacing(ct_a, old_spacing, new_spacing)\n",
    "\n",
    "        np.save(f\"{save_path}/{uid}_resampling.npy\", resized_image)\n",
    "        np.save(f\"{save_path}/{uid}_origin.npy\", origin)\n",
    "        np.save(f\"{save_path}/{uid}_direction\", direction)\n"
   ]
  },
  {
   "attachments": {},
   "cell_type": "markdown",
   "metadata": {},
   "source": [
    "#### Test"
   ]
  },
  {
   "cell_type": "code",
   "execution_count": 4,
   "metadata": {},
   "outputs": [
    {
     "name": "stdout",
     "output_type": "stream",
     "text": [
      "(127, 512, 512)\n",
      "(2.5, 0.78125, 0.78125)\n",
      "(318, 400, 400)\n"
     ]
    }
   ],
   "source": [
    "test_uid = \"1.3.6.1.4.1.14519.5.2.1.6279.6001.176362912420491262783064585333\"\n",
    "\n",
    "luna_path = glob.glob(f\"../../luna16/LUNA16/subset2/{test_uid}.mhd\")[0]\n",
    "\n",
    "ct_mhd = sitk.ReadImage(luna_path)\n",
    "ct_a = np.array(sitk.GetArrayFromImage(ct_mhd), dtype=np.float32)\n",
    "\n",
    "print(ct_a.shape)\n",
    "print(ct_mhd.GetSpacing()[::-1])\n",
    "# print(ct_mhd.GetSpacing())\n",
    "\n",
    "resampling_path = glob.glob(f\"../../luna16/LUNA16_resampling/subset2/{test_uid}_resampling.npy\")[0]\n",
    "\n",
    "img = np.load(resampling_path)\n",
    "\n",
    "print(img.shape)\n"
   ]
  },
  {
   "cell_type": "code",
   "execution_count": 10,
   "metadata": {},
   "outputs": [
    {
     "name": "stderr",
     "output_type": "stream",
     "text": [
      "100%|██████████| 888/888 [26:31<00:00,  1.79s/it]\n"
     ]
    }
   ],
   "source": [
    "# Kiểm tra phân phối số lượng lát cắt trong ảnh CT\n",
    "paths = glob.glob(f\"{resampling_paths}/subset*/*_resampling.npy\")\n",
    "shapes = []\n",
    "\n",
    "for path in tqdm(paths):\n",
    "#     break\n",
    "    image = np.load(path)\n",
    "    shapes.append(image.shape)\n",
    "\n",
    "with open(\"save/shape_img_resampling.txt\", 'w') as f:\n",
    "    f.write(str(shapes))"
   ]
  },
  {
   "cell_type": "code",
   "execution_count": 14,
   "metadata": {},
   "outputs": [
    {
     "data": {
      "text/plain": [
       "(array([ 1.,  0.,  0.,  0.,  0.,  0.,  1.,  2.,  0.,  0.,  1.,  2.,  1.,\n",
       "         6.,  3.,  4.,  7.,  2., 13., 14., 15., 19., 27., 18., 36., 30.,\n",
       "        71., 54., 57., 38., 56., 50., 49., 94., 29., 34., 39., 23., 20.,\n",
       "        16., 15., 14., 11.,  7.,  1.,  4.,  0.,  1.,  0.,  3.]),\n",
       " array([166., 171., 176., 181., 186., 191., 196., 201., 206., 211., 216.,\n",
       "        221., 226., 231., 236., 241., 246., 251., 256., 261., 266., 271.,\n",
       "        276., 281., 286., 291., 296., 301., 306., 311., 316., 321., 326.,\n",
       "        331., 336., 341., 346., 351., 356., 361., 366., 371., 376., 381.,\n",
       "        386., 391., 396., 401., 406., 411., 416.]),\n",
       " <BarContainer object of 50 artists>)"
      ]
     },
     "execution_count": 14,
     "metadata": {},
     "output_type": "execute_result"
    },
    {
     "data": {
      "image/png": "[encoded data removed]",
      "text/plain": [
       "<Figure size 640x480 with 1 Axes>"
      ]
     },
     "metadata": {},
     "output_type": "display_data"
    }
   ],
   "source": [
    "import matplotlib.pyplot as plt\n",
    "\n",
    "deeps = [d[0] for d in shapes]\n",
    "\n",
    "plt.hist(deeps, bins=50)"
   ]
  },
  {
   "attachments": {},
   "cell_type": "markdown",
   "metadata": {},
   "source": [
    "## Mốt số ví dụ về kích thước spacing và kích thước ảnh"
   ]
  },
  {
   "cell_type": "code",
   "execution_count": 6,
   "metadata": {},
   "outputs": [],
   "source": [
    "from util import read_sitk, get_uids\n",
    "import random\n",
    "\n",
    "random.seed(42)\n",
    "\n",
    "uids = get_uids()\n",
    "random.shuffle(uids)\n",
    "\n",
    "sample_uids = uids[:5]"
   ]
  },
  {
   "cell_type": "code",
   "execution_count": 7,
   "metadata": {},
   "outputs": [
    {
     "data": {
      "text/plain": [
       "['1.3.6.1.4.1.14519.5.2.1.6279.6001.261678072503577216586082745513',\n",
       " '1.3.6.1.4.1.14519.5.2.1.6279.6001.108231420525711026834210228428',\n",
       " '1.3.6.1.4.1.14519.5.2.1.6279.6001.191617711875409989053242965150',\n",
       " '1.3.6.1.4.1.14519.5.2.1.6279.6001.133132722052053001903031735878',\n",
       " '1.3.6.1.4.1.14519.5.2.1.6279.6001.131150737314367975651717513386']"
      ]
     },
     "execution_count": 7,
     "metadata": {},
     "output_type": "execute_result"
    }
   ],
   "source": [
    "sample_uids"
   ]
  },
  {
   "cell_type": "code",
   "execution_count": 8,
   "metadata": {},
   "outputs": [
    {
     "name": "stdout",
     "output_type": "stream",
     "text": [
      "[1.79999995 0.68359375 0.68359375] (179, 512, 512) (322, 350, 350)\n",
      "[1.25       0.72851598 0.72851598] (238, 512, 512) (298, 373, 373)\n",
      "[1.25       0.55273402 0.55273402] (241, 512, 512) (301, 283, 283)\n",
      "[1.99999988 0.60546899 0.60546899] (140, 512, 512) (280, 310, 310)\n",
      "[2.5        0.56835902 0.56835902] (123, 512, 512) (308, 291, 291)\n"
     ]
    }
   ],
   "source": [
    "for uid in sample_uids:\n",
    "    # luna\n",
    "    luna_path = glob.glob(f\"../../luna16/LUNA16//subset*/{uid}*.mhd\")[0]\n",
    "\n",
    "    img, _, spacing, _ = read_sitk(luna_path)\n",
    "\n",
    "    # resampling\n",
    "    resampling_img_path = glob.glob(f\"{resampling_paths}/subset*/{uid}*_resampling.npy\")[0]\n",
    "    img_resampling = np.load(resampling_img_path)\n",
    "\n",
    "    # print result\n",
    "    print(spacing, img.shape, img_resampling.shape)    "
   ]
  }
 ],
 "metadata": {
  "kernelspec": {
   "display_name": "py38",
   "language": "python",
   "name": "python3"
  },
  "language_info": {
   "codemirror_mode": {
    "name": "ipython",
    "version": 3
   },
   "file_extension": ".py",
   "mimetype": "text/x-python",
   "name": "python",
   "nbconvert_exporter": "python",
   "pygments_lexer": "ipython3",
   "version": "3.8.16"
  },
  "orig_nbformat": 4
 },
 "nbformat": 4,
 "nbformat_minor": 2
}
